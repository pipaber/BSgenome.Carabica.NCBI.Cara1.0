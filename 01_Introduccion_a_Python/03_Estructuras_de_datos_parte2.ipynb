{
  "nbformat": 4,
  "nbformat_minor": 0,
  "metadata": {
    "colab": {
      "provenance": [],
      "include_colab_link": true
    },
    "kernelspec": {
      "name": "python3",
      "display_name": "Python 3"
    },
    "language_info": {
      "name": "python"
    }
  },
  "cells": [
    {
      "cell_type": "markdown",
      "metadata": {
        "id": "view-in-github",
        "colab_type": "text"
      },
      "source": [
        "<a href=\"https://colab.research.google.com/github/pipaber/BSgenome.Carabica.NCBI.Cara1.0/blob/main/01_Introduccion_a_Python/03_Estructuras_de_datos_parte2.ipynb\" target=\"_parent\"><img src=\"https://colab.research.google.com/assets/colab-badge.svg\" alt=\"Open In Colab\"/></a>"
      ]
    },
    {
      "cell_type": "markdown",
      "source": [
        "<img src=\"https://www.ctic.uni.edu.pe/wp-content/uploads/2022/04/588px-x-348px-web-1.png\" alt=\"HTML5 Icon\" width=\"900\" height=\"350\" >\n"
      ],
      "metadata": {
        "id": "0xv6Piu7tRkP"
      }
    },
    {
      "cell_type": "markdown",
      "source": [
        "<h1 align=center><font size = 5>ESTRUCTURAS DE DATOS - PARTE 2\n",
        "</font></h1>\n",
        "\n",
        "---\n"
      ],
      "metadata": {
        "id": "iJvpwSTptUZI"
      }
    },
    {
      "cell_type": "markdown",
      "source": [
        "**Tabla de Contenidos**\n",
        "\n",
        "- Diccionarios\n",
        "- Sets\n",
        "- Matrices\n",
        "\n",
        "---"
      ],
      "metadata": {
        "id": "gM88wvb0uEt7"
      }
    },
    {
      "cell_type": "markdown",
      "source": [
        "## 1. Diccionarios\n",
        "\n",
        "**Concepto:**\n",
        "\n",
        "Un diccionario es una estructura de datos que almacena pares clave-valor. Las claves deben ser únicas y se utilizan para acceder a los valores asociados."
      ],
      "metadata": {
        "id": "P3deKEL-tbDJ"
      }
    },
    {
      "cell_type": "markdown",
      "source": [
        "### Ejemplo 1.1: Creación de Diccionarios y Acceso a Elementos\n"
      ],
      "metadata": {
        "id": "hlZnLeo_uPwN"
      }
    },
    {
      "cell_type": "code",
      "source": [
        "# Crear un diccionario\n",
        "persona = {'nombre': 'Ana', 'edad': 30, 'ciudad': 'Lima'}\n",
        "print(persona)"
      ],
      "metadata": {
        "id": "P-TTXZxuuRe7"
      },
      "execution_count": null,
      "outputs": []
    },
    {
      "cell_type": "code",
      "source": [
        "# Acceder a un valor\n",
        "print(\"Nombre:\", persona['nombre'])\n",
        "print(\"Ciudad:\", persona.get('ciudad'))\n"
      ],
      "metadata": {
        "id": "tPRrAukRuS1S"
      },
      "execution_count": null,
      "outputs": []
    },
    {
      "cell_type": "code",
      "source": [
        "\n",
        "# Añadir un nuevo par clave-valor\n",
        "persona['profesion'] = 'Ingeniera'\n",
        "print(persona)\n",
        "\n"
      ],
      "metadata": {
        "id": "Ineeezk6uUjd"
      },
      "execution_count": null,
      "outputs": []
    },
    {
      "cell_type": "code",
      "source": [
        "# Eliminar un par clave-valor\n",
        "del persona['ciudad']\n",
        "print(persona)"
      ],
      "metadata": {
        "id": "tuA4FSZNuVv1"
      },
      "execution_count": null,
      "outputs": []
    },
    {
      "cell_type": "markdown",
      "source": [
        "### Ejemplo 1.2: Métodos Útiles de Diccionarios\n"
      ],
      "metadata": {
        "id": "FiQWLZxXuY6G"
      }
    },
    {
      "cell_type": "code",
      "source": [
        "# Obtener todas las claves\n",
        "print(persona.keys())\n"
      ],
      "metadata": {
        "id": "0BNmkeBXua1R"
      },
      "execution_count": null,
      "outputs": []
    },
    {
      "cell_type": "code",
      "source": [
        "# Obtener todos los valores\n",
        "print(persona.values())\n"
      ],
      "metadata": {
        "id": "67-6NfYiubwM"
      },
      "execution_count": null,
      "outputs": []
    },
    {
      "cell_type": "code",
      "source": [
        "# Comprobar si una clave existe en el diccionario\n",
        "if 'edad' in persona:\n",
        "    print(\"La clave 'edad' está en el diccionario.\")\n"
      ],
      "metadata": {
        "id": "UPfEsSI_ucnd"
      },
      "execution_count": null,
      "outputs": []
    },
    {
      "cell_type": "markdown",
      "source": [
        "### Ejercicio 1: Trabajando con Diccionarios\n",
        "\n",
        "- Crea un diccionario que contenga información sobre un automóvil (marca, modelo, año, color).\n",
        "- Accede a cada valor usando su clave.\n",
        "- Añade una clave para el precio del automóvil.\n",
        "- Elimina la clave del color del automóvil y muestra el diccionario actualizado.\n",
        "- Usa keys() y values() para imprimir las claves y valores del diccionario.\n",
        "\n"
      ],
      "metadata": {
        "id": "oECCq-N5uguf"
      }
    },
    {
      "cell_type": "code",
      "source": [],
      "metadata": {
        "id": "x2uN2fYnume5"
      },
      "execution_count": null,
      "outputs": []
    },
    {
      "cell_type": "markdown",
      "source": [
        "## 2. Sets\n",
        "\n",
        "Los sets son colecciones de elementos únicos y desordenados. Son útiles para eliminar duplicados o realizar operaciones matemáticas como intersección y unión."
      ],
      "metadata": {
        "id": "-omdmjTguoW-"
      }
    },
    {
      "cell_type": "markdown",
      "source": [
        "### Ejemplo 2.1: Creación y Modificación de Sets"
      ],
      "metadata": {
        "id": "5GC8_tPvuu3r"
      }
    },
    {
      "cell_type": "code",
      "source": [
        "# Crear un set\n",
        "numeros = {1, 2, 3, 4, 5}\n",
        "print(numeros)\n"
      ],
      "metadata": {
        "id": "D2ClA0CAutom"
      },
      "execution_count": null,
      "outputs": []
    },
    {
      "cell_type": "code",
      "source": [
        "# Añadir elementos\n",
        "numeros.add(6)\n",
        "print(numeros)\n"
      ],
      "metadata": {
        "id": "deMM35okuyPM"
      },
      "execution_count": null,
      "outputs": []
    },
    {
      "cell_type": "code",
      "source": [
        "# Eliminar un elemento\n",
        "numeros.remove(3)\n",
        "print(numeros)\n"
      ],
      "metadata": {
        "id": "VQjmgrWyuzAr"
      },
      "execution_count": null,
      "outputs": []
    },
    {
      "cell_type": "markdown",
      "source": [
        "### Ejemplo 2.2: Operaciones de Conjuntos\n"
      ],
      "metadata": {
        "id": "8I9pqkBWu3qE"
      }
    },
    {
      "cell_type": "code",
      "source": [
        "# Crear otro set\n",
        "otro_set = {4, 5, 6, 7}"
      ],
      "metadata": {
        "id": "169QsOxuvAbe"
      },
      "execution_count": null,
      "outputs": []
    },
    {
      "cell_type": "code",
      "source": [
        "# Unión de sets (todos los elementos)\n",
        "union = numeros.union(otro_set)\n",
        "print(\"Unión:\", union)\n"
      ],
      "metadata": {
        "id": "1hvqQ2F_vBtY"
      },
      "execution_count": null,
      "outputs": []
    },
    {
      "cell_type": "code",
      "source": [
        "# Intersección de sets (elementos comunes)\n",
        "interseccion = numeros.intersection(otro_set)\n",
        "print(\"Intersección:\", interseccion)\n"
      ],
      "metadata": {
        "id": "0AU3PFc1vCh2"
      },
      "execution_count": null,
      "outputs": []
    },
    {
      "cell_type": "markdown",
      "source": [
        "### Ejercicio 2: Operaciones con Sets\n",
        "\n",
        "- Crea dos sets de números: uno con números del 1 al 10 y otro con números del 5 al 15.\n",
        "- Encuentra la intersección y unión de ambos sets.\n",
        "- Elimina un número del primer set.\n",
        "- Usa un set para almacenar los nombres de tus amigos. Asegúrate de que no haya duplicados."
      ],
      "metadata": {
        "id": "y15kQNAQvFx_"
      }
    },
    {
      "cell_type": "code",
      "source": [],
      "metadata": {
        "id": "CqudC_sBvJEQ"
      },
      "execution_count": null,
      "outputs": []
    },
    {
      "cell_type": "markdown",
      "source": [
        "## 3. Matrices\n",
        "\n",
        "En Python, las matrices pueden representarse como listas de listas. Para manipular matrices más avanzadas y realizar cálculos eficientes, utilizamos la librería NumPy."
      ],
      "metadata": {
        "id": "Pg3-dd-KvK9D"
      }
    },
    {
      "cell_type": "markdown",
      "source": [
        "### Ejemplo 3.1: Matrices con Listas de Listas\n"
      ],
      "metadata": {
        "id": "X7qGslkLvNya"
      }
    },
    {
      "cell_type": "code",
      "source": [
        "# Crear una matriz 3x3 con listas anidadas\n",
        "matriz = [\n",
        "    [1, 2, 3],\n",
        "    [4, 5, 6],\n",
        "    [7, 8, 9]\n",
        "]\n",
        "print(matriz)\n"
      ],
      "metadata": {
        "id": "TK57Y4GUvQ3Z",
        "outputId": "7000f3ff-c005-48ab-c722-4b3b83e99690",
        "colab": {
          "base_uri": "https://localhost:8080/"
        }
      },
      "execution_count": 10,
      "outputs": [
        {
          "output_type": "stream",
          "name": "stdout",
          "text": [
            "[[1, 2, 3], [4, 5, 6], [7, 8, 9]]\n"
          ]
        }
      ]
    },
    {
      "cell_type": "code",
      "source": [
        "# Acceder a elementos de la matriz\n",
        "print(\"Elemento en [1][1]:\", matriz[1][1])\n"
      ],
      "metadata": {
        "id": "D0MpaT6xvSH6",
        "outputId": "bdd48210-6257-454f-9e5d-955cfdf76a40",
        "colab": {
          "base_uri": "https://localhost:8080/"
        }
      },
      "execution_count": 11,
      "outputs": [
        {
          "output_type": "stream",
          "name": "stdout",
          "text": [
            "Elemento en [1][1]: 5\n"
          ]
        }
      ]
    },
    {
      "cell_type": "code",
      "source": [
        "# Modificar un elemento\n",
        "matriz[2][0] = 10\n",
        "print(matriz)"
      ],
      "metadata": {
        "id": "02wHfdwMvUB_",
        "outputId": "8e385834-1efb-4c23-9493-6d49e1528961",
        "colab": {
          "base_uri": "https://localhost:8080/"
        }
      },
      "execution_count": 12,
      "outputs": [
        {
          "output_type": "stream",
          "name": "stdout",
          "text": [
            "[[1, 2, 3], [4, 5, 6], [10, 8, 9]]\n"
          ]
        }
      ]
    },
    {
      "cell_type": "markdown",
      "source": [
        "### Ejemplo 3.2: Manipulación de Matrices con NumPy\n"
      ],
      "metadata": {
        "id": "3cCGTHmTvXXy"
      }
    },
    {
      "cell_type": "code",
      "source": [
        "import numpy as np\n",
        "\n",
        "# Crear una matriz 3x3 con NumPy\n",
        "matriz_np = np.array([\n",
        "    [1, 2, 3],\n",
        "    [4, 5, 6],\n",
        "    [7, 8, 9]\n",
        "])\n",
        "print(matriz_np)\n",
        "\n",
        "\n"
      ],
      "metadata": {
        "id": "FZytH_LBvZrP",
        "outputId": "c5de9c40-5b3a-46dc-b3cb-4a56ce7a9106",
        "colab": {
          "base_uri": "https://localhost:8080/"
        }
      },
      "execution_count": 32,
      "outputs": [
        {
          "output_type": "stream",
          "name": "stdout",
          "text": [
            "[[1 2 3]\n",
            " [4 5 6]\n",
            " [7 8 9]]\n"
          ]
        }
      ]
    },
    {
      "cell_type": "code",
      "source": [
        "# Sumar 10 a cada elemento\n",
        "print(matriz_np + 10)\n",
        "\n"
      ],
      "metadata": {
        "id": "n2yT2V3tvbEE",
        "outputId": "d7041b18-a36a-491d-87fb-6f131b6ffa7b",
        "colab": {
          "base_uri": "https://localhost:8080/"
        }
      },
      "execution_count": 33,
      "outputs": [
        {
          "output_type": "stream",
          "name": "stdout",
          "text": [
            "[[11 12 13]\n",
            " [14 15 16]\n",
            " [17 18 19]]\n"
          ]
        }
      ]
    },
    {
      "cell_type": "code",
      "source": [
        "# Multiplicar cada elemento por 2\n",
        "print(matriz_np * 2)"
      ],
      "metadata": {
        "id": "RS-Cqk3rvb7k",
        "outputId": "e4db8d80-94a1-4867-9367-920acd7571eb",
        "colab": {
          "base_uri": "https://localhost:8080/"
        }
      },
      "execution_count": 34,
      "outputs": [
        {
          "output_type": "stream",
          "name": "stdout",
          "text": [
            "[[ 2  4  6]\n",
            " [ 8 10 12]\n",
            " [14 16 18]]\n"
          ]
        }
      ]
    },
    {
      "cell_type": "code",
      "source": [],
      "metadata": {
        "id": "couS6BUgo2op"
      },
      "execution_count": null,
      "outputs": []
    },
    {
      "cell_type": "markdown",
      "source": [
        "### Ejercicio 3: Operaciones con Matrices\n",
        "\n",
        "- Crea una matriz 3x3 usando listas de listas.\n",
        "- Modifica un valor de la matriz y muestra la matriz actualizada.\n",
        "- Usa NumPy para crear una matriz 4x4 con números aleatorios enteros.\n",
        "- Realiza una operación de suma con la matriz (suma 5 a cada elemento).\n",
        "- Multiplica los elementos de la matriz por 2 usando NumPy."
      ],
      "metadata": {
        "id": "lR6HCR3DveEn"
      }
    },
    {
      "cell_type": "code",
      "source": [
        "matrix_int = np.random.randint(10, size=(4,4))\n",
        "print(matrix_int)\n",
        "print(\"\\n\")\n",
        "print(matrix_int + 5)\n",
        "print(\"\\n\")\n",
        "print(matrix_int * 2)"
      ],
      "metadata": {
        "id": "7RMRCaRPvh1s",
        "outputId": "dc20a15c-7fad-4ee5-c52a-a3251141d9f6",
        "colab": {
          "base_uri": "https://localhost:8080/"
        }
      },
      "execution_count": 35,
      "outputs": [
        {
          "output_type": "stream",
          "name": "stdout",
          "text": [
            "[[0 6 7 5]\n",
            " [4 7 3 2]\n",
            " [0 7 7 9]\n",
            " [4 4 5 7]]\n",
            "\n",
            "\n",
            "[[ 5 11 12 10]\n",
            " [ 9 12  8  7]\n",
            " [ 5 12 12 14]\n",
            " [ 9  9 10 12]]\n",
            "\n",
            "\n",
            "[[ 0 12 14 10]\n",
            " [ 8 14  6  4]\n",
            " [ 0 14 14 18]\n",
            " [ 8  8 10 14]]\n"
          ]
        }
      ]
    },
    {
      "cell_type": "markdown",
      "source": [
        "## 4. Desafío\n",
        "\n",
        "\n",
        "Eres el encargado de un almacén de productos electrónicos. Tienes un registro de ventas semanales para teléfonos, laptops y tabletas. Necesitas analizar las ventas para mejorar la gestión.\n",
        "\n",
        "- Crea tres listas: una para teléfonos, otra para laptops y otra para tabletas con las ventas de cada día durante una semana.\n",
        "- Usa slicing para obtener las ventas de los últimos 3 días de cada producto.\n",
        "- Usa listas por comprensión para calcular el total de ventas de cada producto y el promedio de ventas diarias.\n",
        "- Clasifica los productos en \"ventas altas\" o \"ventas bajas\" según si el promedio de ventas es mayor o menor a 5.\n",
        "\n",
        "Instrucciones:\n",
        "Usa sum() y len() para calcular el total de ventas y el promedio.\n",
        "Clasifica las ventas usando listas por comprensión."
      ],
      "metadata": {
        "id": "ROqSXb4Avk_T"
      }
    },
    {
      "cell_type": "code",
      "source": [],
      "metadata": {
        "id": "93wXCVCZv4TT"
      },
      "execution_count": null,
      "outputs": []
    },
    {
      "cell_type": "markdown",
      "source": [
        "---\n",
        "\n",
        "# Gracias por completar este laboratorio!\n",
        "\n",
        "---"
      ],
      "metadata": {
        "id": "qUpDNm7iv-Vh"
      }
    }
  ]
}